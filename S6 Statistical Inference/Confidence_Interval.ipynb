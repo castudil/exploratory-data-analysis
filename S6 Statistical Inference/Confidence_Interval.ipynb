{
  "nbformat": 4,
  "nbformat_minor": 0,
  "metadata": {
    "colab": {
      "provenance": [],
      "authorship_tag": "ABX9TyNnyiCo20Xq9X0e6xuEV15y",
      "include_colab_link": true
    },
    "kernelspec": {
      "name": "python3",
      "display_name": "Python 3"
    },
    "language_info": {
      "name": "python"
    }
  },
  "cells": [
    {
      "cell_type": "markdown",
      "metadata": {
        "id": "view-in-github",
        "colab_type": "text"
      },
      "source": [
        "<a href=\"https://colab.research.google.com/github/castudil/exploratory-data-analysis/blob/main/S6%20Statistical%20Inference/Confidence_Interval.ipynb\" target=\"_parent\"><img src=\"https://colab.research.google.com/assets/colab-badge.svg\" alt=\"Open In Colab\"/></a>"
      ]
    },
    {
      "cell_type": "code",
      "execution_count": 2,
      "metadata": {
        "colab": {
          "base_uri": "https://localhost:8080/"
        },
        "id": "JHigCS3Ebeh-",
        "outputId": "6bf37f93-e3f0-4d7b-84b3-81acd1239e96"
      },
      "outputs": [
        {
          "output_type": "stream",
          "name": "stdout",
          "text": [
            "Sample Size (n): 32\n",
            "Sample Mean: 20.090625000000003\n",
            "Sample Standard Deviation: 6.026948052089104\n",
            "Standard Error of the Mean: 1.0654239593728145\n",
            "Confidence Level: 0.95\n",
            "Critical Value (t_critical): 2.0395134463964077\n",
            "Confidence Interval: (20.023272662902, 20.157977337098007)\n",
            "Lower Bound: 20.023272662902\n",
            "Upper Bound: 20.157977337098007\n"
          ]
        }
      ],
      "source": [
        "import pandas as pd\n",
        "import numpy as np\n",
        "from scipy.stats import t\n",
        "from statsmodels.stats import weightstats\n",
        "import statsmodels.api as sm\n",
        "\n",
        "# Load mtcars dataset\n",
        "mtcars = sm.datasets.get_rdataset('mtcars').data\n",
        "\n",
        "# Select \"mpg\" variable\n",
        "mpg = mtcars['mpg']\n",
        "\n",
        "# Calculate sample statistics\n",
        "n = len(mpg)\n",
        "mean = np.mean(mpg)\n",
        "std = np.std(mpg, ddof=1)  # ddof=1 for sample standard deviation\n",
        "\n",
        "# Set confidence level\n",
        "alpha = 0.95\n",
        "\n",
        "# Compute critical value (two-tailed)\n",
        "t_critical = t.ppf(1 - (1 - alpha) / 2, df=n-1)\n",
        "\n",
        "# Compute standard error of the mean\n",
        "se = std / np.sqrt(n)\n",
        "\n",
        "# Compute confidence interval\n",
        "confidence_interval = weightstats.DescrStatsW(mpg).tconfint_mean(alpha=alpha, alternative='two-sided')\n",
        "\n",
        "# Extract lower and upper bounds of confidence interval\n",
        "lower_bound = confidence_interval[0]\n",
        "upper_bound = confidence_interval[1]\n",
        "\n",
        "# Print results\n",
        "print(\"Sample Size (n):\", n)\n",
        "print(\"Sample Mean:\", mean)\n",
        "print(\"Sample Standard Deviation:\", std)\n",
        "print(\"Standard Error of the Mean:\", se)\n",
        "print(\"Confidence Level:\", alpha)\n",
        "print(\"Critical Value (t_critical):\", t_critical)\n",
        "print(\"Confidence Interval:\", confidence_interval)\n",
        "print(\"Lower Bound:\", lower_bound)\n",
        "print(\"Upper Bound:\", upper_bound)\n"
      ]
    }
  ]
}