{
  "nbformat": 4,
  "nbformat_minor": 0,
  "metadata": {
    "colab": {
      "provenance": [],
      "authorship_tag": "ABX9TyNTK3KoCRD9QvRHvKBym8fL",
      "include_colab_link": true
    },
    "kernelspec": {
      "name": "python3",
      "display_name": "Python 3"
    },
    "language_info": {
      "name": "python"
    }
  },
  "cells": [
    {
      "cell_type": "markdown",
      "metadata": {
        "id": "view-in-github",
        "colab_type": "text"
      },
      "source": [
        "<a href=\"https://colab.research.google.com/github/castudil/exploratory-data-analysis/blob/main/S6%20Statistical%20Inference/two_way_ANOVA.ipynb\" target=\"_parent\"><img src=\"https://colab.research.google.com/assets/colab-badge.svg\" alt=\"Open In Colab\"/></a>"
      ]
    },
    {
      "cell_type": "code",
      "execution_count": 1,
      "metadata": {
        "colab": {
          "base_uri": "https://localhost:8080/"
        },
        "id": "WR7Wqj4FDel9",
        "outputId": "86a0796e-8b52-491b-a1da-09cffefe1c6c"
      },
      "outputs": [
        {
          "output_type": "stream",
          "name": "stdout",
          "text": [
            "              sum_sq    df          F    PR(>F)\n",
            "C(cyl)    349.793257   2.0  16.116163  0.000025\n",
            "C(gear)     8.251855   2.0   0.380191  0.687333\n",
            "Residual  293.010743  27.0        NaN       NaN\n"
          ]
        }
      ],
      "source": [
        "import pandas as pd\n",
        "import statsmodels.api as sm\n",
        "from statsmodels.formula.api import ols\n",
        "\n",
        "# Load example dataset\n",
        "data = sm.datasets.get_rdataset('mtcars')\n",
        "df = data.data\n",
        "\n",
        "# Fit ANOVA model\n",
        "model = ols('mpg ~ C(cyl) + C(gear)', data=df).fit()\n",
        "\n",
        "# Perform ANOVA and get ANOVA table\n",
        "anova_table = sm.stats.anova_lm(model, typ=2)\n",
        "\n",
        "# Print ANOVA table\n",
        "print(anova_table)"
      ]
    },
    {
      "cell_type": "markdown",
      "source": [
        "In this example, the `anova_lm()` function is used to compute the ANOVA table for a linear regression model with the dependent variable 'mpg' (miles per gallon) and two categorical factors 'cyl' (number of cylinders) and 'gear' (number of gears) from the \"mtcars\" dataset. The `typ` argument specifies the type of sum of squares to be used in the ANOVA computation."
      ],
      "metadata": {
        "id": "g-7BZPlGDuBl"
      }
    }
  ]
}