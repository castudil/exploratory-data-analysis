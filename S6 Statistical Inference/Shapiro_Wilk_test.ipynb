{
  "nbformat": 4,
  "nbformat_minor": 0,
  "metadata": {
    "colab": {
      "provenance": [],
      "authorship_tag": "ABX9TyMAmfq1OW5Sv3eRPPH358M8",
      "include_colab_link": true
    },
    "kernelspec": {
      "name": "python3",
      "display_name": "Python 3"
    },
    "language_info": {
      "name": "python"
    }
  },
  "cells": [
    {
      "cell_type": "markdown",
      "metadata": {
        "id": "view-in-github",
        "colab_type": "text"
      },
      "source": [
        "<a href=\"https://colab.research.google.com/github/castudil/exploratory-data-analysis/blob/main/S6%20Statistical%20Inference/Shapiro_Wilk_test.ipynb\" target=\"_parent\"><img src=\"https://colab.research.google.com/assets/colab-badge.svg\" alt=\"Open In Colab\"/></a>"
      ]
    },
    {
      "cell_type": "code",
      "execution_count": 3,
      "metadata": {
        "colab": {
          "base_uri": "https://localhost:8080/"
        },
        "id": "IbvIaVcoOjin",
        "outputId": "1c19fe13-1b29-4d28-a6f2-e00bba3b9422"
      },
      "outputs": [
        {
          "output_type": "stream",
          "name": "stdout",
          "text": [
            "Test Statistic: 0.9475648403167725\n",
            "p-value: 0.1228824257850647\n",
            "Data appears to be normally distributed (fail to reject null hypothesis)\n"
          ]
        }
      ],
      "source": [
        "import seaborn as sns\n",
        "from scipy.stats import shapiro\n",
        "import statsmodels.api as sm\n",
        "\n",
        "# Load the mtcars dataset from R\n",
        "mtcars = sm.datasets.get_rdataset(\"mtcars\", \"datasets\", cache=True).data\n",
        "\n",
        "# Extract the data column of interest (e.g., mpg)\n",
        "data = mtcars[\"mpg\"]\n",
        "\n",
        "# Perform Shapiro-Wilk test\n",
        "statistic, p_value = shapiro(data)\n",
        "\n",
        "# Print test statistic and p-value\n",
        "print(\"Test Statistic:\", statistic)\n",
        "print(\"p-value:\", p_value)\n",
        "\n",
        "# Set significance level (alpha)\n",
        "alpha = 0.05\n",
        "\n",
        "# Check for normality\n",
        "if p_value > alpha:\n",
        "    print(\"Data appears to be normally distributed (fail to reject null hypothesis)\")\n",
        "else:\n",
        "    print(\"Data does not appear to be normally distributed (reject null hypothesis)\")\n"
      ]
    }
  ]
}