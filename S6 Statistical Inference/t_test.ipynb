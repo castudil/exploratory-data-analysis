{
  "nbformat": 4,
  "nbformat_minor": 0,
  "metadata": {
    "colab": {
      "provenance": [],
      "authorship_tag": "ABX9TyNAg9EHHf26uuOEfWT1bMEu",
      "include_colab_link": true
    },
    "kernelspec": {
      "name": "python3",
      "display_name": "Python 3"
    },
    "language_info": {
      "name": "python"
    }
  },
  "cells": [
    {
      "cell_type": "markdown",
      "metadata": {
        "id": "view-in-github",
        "colab_type": "text"
      },
      "source": [
        "<a href=\"https://colab.research.google.com/github/castudil/exploratory-data-analysis/blob/main/S6%20Statistical%20Inference/t_test.ipynb\" target=\"_parent\"><img src=\"https://colab.research.google.com/assets/colab-badge.svg\" alt=\"Open In Colab\"/></a>"
      ]
    },
    {
      "cell_type": "code",
      "execution_count": 2,
      "metadata": {
        "colab": {
          "base_uri": "https://localhost:8080/"
        },
        "id": "yJGqo3QtRqm8",
        "outputId": "eaa49f82-0355-46a7-cd4f-f4ad78162d1c"
      },
      "outputs": [
        {
          "output_type": "stream",
          "name": "stdout",
          "text": [
            "T-statistic: -4.106126983100689\n",
            "P-value: 0.0002850207439350686\n"
          ]
        }
      ],
      "source": [
        "import seaborn as sns\n",
        "from scipy.stats import ttest_ind\n",
        "import statsmodels.api as sm\n",
        "\n",
        "# Load mtcars dataset\n",
        "mtcars = sm.datasets.get_rdataset('mtcars').data\n",
        "\n",
        "# Extract two groups for comparison (e.g. mpg for manual vs. automatic transmission)\n",
        "group1 = mtcars[mtcars['am'] == 0]['mpg']\n",
        "group2 = mtcars[mtcars['am'] == 1]['mpg']\n",
        "\n",
        "# Perform t-test for independent samples\n",
        "t_stat, p_value = ttest_ind(group1, group2)\n",
        "\n",
        "# Print results\n",
        "print(\"T-statistic:\", t_stat)\n",
        "print(\"P-value:\", p_value)\n"
      ]
    },
    {
      "cell_type": "markdown",
      "source": [
        "In this example, we use the seaborn library to load the mtcars dataset, which contains information about various car models, including miles per gallon (mpg) and transmission type (am). We extract two groups for comparison based on the transmission type: group1 for cars with manual transmission (am == 0) and group2 for cars with automatic transmission (am == 1).\n",
        "\n",
        "We then use the ttest_ind function from the scipy.stats module to perform an independent samples t-test, which compares the means of two groups. The function returns the t-statistic and p-value, which can be used to make inferences about the statistical significance of the difference between the means of the two groups. The t-statistic measures the difference between the means in terms of standard errors, and the p-value indicates the probability of obtaining a result as extreme as the observed result, assuming the null hypothesis (no difference between group means) is true.\n",
        "\n",
        "Note: The above example assumes a two-sample independent t-test for comparing two groups. There are other types of t-tests, such as paired t-tests for dependent samples or one-sample t-tests for comparing a sample mean to a known population mean, which may require different approaches in Python."
      ],
      "metadata": {
        "id": "bpW3xY5bSN2X"
      }
    }
  ]
}