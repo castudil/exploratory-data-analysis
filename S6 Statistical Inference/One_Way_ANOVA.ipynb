{
  "nbformat": 4,
  "nbformat_minor": 0,
  "metadata": {
    "colab": {
      "provenance": [],
      "authorship_tag": "ABX9TyOZj11nmgbmc6hJkSC9y8io",
      "include_colab_link": true
    },
    "kernelspec": {
      "name": "python3",
      "display_name": "Python 3"
    },
    "language_info": {
      "name": "python"
    }
  },
  "cells": [
    {
      "cell_type": "markdown",
      "metadata": {
        "id": "view-in-github",
        "colab_type": "text"
      },
      "source": [
        "<a href=\"https://colab.research.google.com/github/castudil/exploratory-data-analysis/blob/main/S6%20Statistical%20Inference/One_Way_ANOVA.ipynb\" target=\"_parent\"><img src=\"https://colab.research.google.com/assets/colab-badge.svg\" alt=\"Open In Colab\"/></a>"
      ]
    },
    {
      "cell_type": "code",
      "execution_count": 1,
      "metadata": {
        "colab": {
          "base_uri": "https://localhost:8080/"
        },
        "id": "Y3DmV8cr0NGr",
        "outputId": "867616be-0122-4bbc-c172-580d2e86506a"
      },
      "outputs": [
        {
          "output_type": "stream",
          "name": "stdout",
          "text": [
            "Test Statistic: 18.0\n",
            "p-value: 0.000244140625\n",
            "There are significant differences among the group means (reject null hypothesis)\n"
          ]
        }
      ],
      "source": [
        "import numpy as np\n",
        "from scipy.stats import f_oneway\n",
        "\n",
        "# Generate example data for three groups\n",
        "group1 = np.array([4, 5, 6, 7, 8])\n",
        "group2 = np.array([1, 2, 3, 4, 5])\n",
        "group3 = np.array([7, 8, 9, 10, 11])\n",
        "\n",
        "# Perform one-way ANOVA\n",
        "statistic, p_value = f_oneway(group1, group2, group3)\n",
        "\n",
        "# Print test statistic and p-value\n",
        "print(\"Test Statistic:\", statistic)\n",
        "print(\"p-value:\", p_value)\n",
        "\n",
        "# Set significance level (alpha)\n",
        "alpha = 0.05\n",
        "\n",
        "# Check for significant differences\n",
        "if p_value < alpha:\n",
        "    print(\"There are significant differences among the group means (reject null hypothesis)\")\n",
        "else:\n",
        "    print(\"There are no significant differences among the group means (fail to reject null hypothesis)\")\n"
      ]
    }
  ]
}