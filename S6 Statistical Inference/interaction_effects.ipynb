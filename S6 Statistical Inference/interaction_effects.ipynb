{
  "nbformat": 4,
  "nbformat_minor": 0,
  "metadata": {
    "colab": {
      "provenance": [],
      "authorship_tag": "ABX9TyMxgsszzpj+I3x4izgokFds",
      "include_colab_link": true
    },
    "kernelspec": {
      "name": "python3",
      "display_name": "Python 3"
    },
    "language_info": {
      "name": "python"
    }
  },
  "cells": [
    {
      "cell_type": "markdown",
      "metadata": {
        "id": "view-in-github",
        "colab_type": "text"
      },
      "source": [
        "<a href=\"https://colab.research.google.com/github/castudil/exploratory-data-analysis/blob/main/S6%20Statistical%20Inference/interaction_effects.ipynb\" target=\"_parent\"><img src=\"https://colab.research.google.com/assets/colab-badge.svg\" alt=\"Open In Colab\"/></a>"
      ]
    },
    {
      "cell_type": "code",
      "execution_count": 1,
      "metadata": {
        "colab": {
          "base_uri": "https://localhost:8080/"
        },
        "id": "g18OUqf0OZOZ",
        "outputId": "4d25234d-b9a2-4e5f-ce21-f7066fc36bac"
      },
      "outputs": [
        {
          "output_type": "stream",
          "name": "stdout",
          "text": [
            "                     sum_sq    df             F    PR(>F)\n",
            "C(am)         -4.357141e-15   1.0 -2.140341e-16  1.000000\n",
            "C(gear)        7.579260e+02   2.0  1.861565e+01  0.000180\n",
            "C(am):C(gear)  1.770818e+02   2.0  4.349361e+00  0.022652\n",
            "Residual       5.700023e+02  28.0           NaN       NaN\n"
          ]
        },
        {
          "output_type": "stream",
          "name": "stderr",
          "text": [
            "/usr/local/lib/python3.9/dist-packages/statsmodels/base/model.py:1871: ValueWarning: covariance of constraints does not have full rank. The number of constraints is 2, but rank is 1\n",
            "  warnings.warn('covariance of constraints does not have full '\n"
          ]
        }
      ],
      "source": [
        "import pandas as pd\n",
        "import statsmodels.api as sm\n",
        "from statsmodels.formula.api import ols\n",
        "\n",
        "# Load mtcars dataset\n",
        "mtcars = sm.datasets.get_rdataset('mtcars').data\n",
        "\n",
        "# Perform two-way ANOVA with interaction effect\n",
        "model = ols('mpg ~ C(am) + C(gear) + C(am):C(gear)', data=mtcars).fit()\n",
        "anova_table = sm.stats.anova_lm(model, typ=2)\n",
        "\n",
        "# Print the ANOVA table\n",
        "print(anova_table)\n"
      ]
    }
  ]
}