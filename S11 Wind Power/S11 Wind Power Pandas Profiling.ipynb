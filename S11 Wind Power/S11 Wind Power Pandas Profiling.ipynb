{
 "cells": [
  {
   "attachments": {},
   "cell_type": "markdown",
   "metadata": {},
   "source": [
    "#Performing auto EDA for the Wind Power Dataset using pandas profiling\n",
    "\n",
    "Pandas profiling is a tool for exploratory data analysis (EDA) on time series data. It can help us understand the characteristics and patterns of time-dependent variables, such as consumption, production, demand, etc. Pandas profiling can generate a comprehensive report that includes statistics, visualizations, and correlations for each variable in a time series data set.\n",
    "\n",
    "Time series analysis is the process of studying how a variable changes over time and what factors influence its behavior. Time series analysis can be useful for forecasting, anomaly detection, trend analysis, and causal inference. For example, we can use time series analysis to predict the future electricity consumption based on historical data and weather conditions.\n",
    "\n",
    "Pandas profiling can be useful for time series analysis because it can provide us with a quick overview of the data quality, distribution, seasonality, trends, and stationarity of the variables. This can help us identify potential problems or opportunities in the data, such as missing values, outliers, periodic patterns, or long-term changes. Pandas profiling can also help us select appropriate methods and models for further analysis and evaluation.\n"
   ]
  },
  {
   "cell_type": "code",
   "execution_count": 4,
   "metadata": {},
   "outputs": [
    {
     "name": "stderr",
     "output_type": "stream",
     "text": [
      "/var/folders/hq/j1mtxtzj67j363wbx6731f6r0000gn/T/ipykernel_15394/1953866587.py:4: DeprecationWarning: `import pandas_profiling` is going to be deprecated by April 1st. Please use `import ydata_profiling` instead.\n",
      "  import pandas_profiling as pp\n"
     ]
    }
   ],
   "source": [
    "#use pandas profiling to get a quick overview of time series data\n",
    "\n",
    "import pandas as pd\n",
    "import pandas_profiling as pp\n",
    "import numpy as np\n",
    "import matplotlib.pyplot as plt\n",
    "import seaborn as sns\n",
    "import datetime as dt\n",
    "import warnings\n",
    "warnings.filterwarnings('ignore')\n"
   ]
  },
  {
   "cell_type": "code",
   "execution_count": 10,
   "metadata": {},
   "outputs": [],
   "source": [
    "#load the Turbine_Data.csv file from the Downloads folder\n",
    "df = pd.read_csv('~/Downloads/Turbine_Data.csv')"
   ]
  },
  {
   "cell_type": "code",
   "execution_count": 11,
   "metadata": {},
   "outputs": [],
   "source": [
    "#change name of first column to 'Date'\n",
    "df.rename(columns={'Unnamed: 0':'Date'}, inplace=True)\n",
    "#set the index to the 'Date' column\n",
    "df.set_index('Date', inplace=True)\n",
    "\n",
    "#convert the index to datetime format\n",
    "df.index = pd.to_datetime(df.index)\n",
    "\n"
   ]
  },
  {
   "attachments": {},
   "cell_type": "markdown",
   "metadata": {},
   "source": [
    "One of the benefits of converting to datetime format is that it enables us to apply the datetime functions on the index and extract various components such as the year, month, day, and so on. This can be useful for analyzing time series data and performing operations based on the date and time values.\n"
   ]
  },
  {
   "cell_type": "code",
   "execution_count": 6,
   "metadata": {},
   "outputs": [
    {
     "name": "stdout",
     "output_type": "stream",
     "text": [
      "/Users/cesar/Downloads\n"
     ]
    }
   ],
   "source": [
    "#print current working directory\n",
    "import os\n",
    "print(os.getcwd())\n"
   ]
  },
  {
   "attachments": {},
   "cell_type": "markdown",
   "metadata": {},
   "source": [
    "One of the common tasks in Python programming is to work with files and directories. Sometimes, it is necessary to check the current working directory (CWD) in Python, which is the folder where the Python script is executed from. The CWD can affect how relative paths are resolved, how modules are imported, and how files are accessed.\n",
    "\n",
    "There are two ways to check the current working directory in Python: using the os module or using the pathlib module. Both modules are part of the standard library and provide methods to get the full path of the CWD as a string or as a Path object.\n",
    "\n",
    "The os module allows us to interact with the operating system and perform various operations on files and directories. To use the os module, we need to import it at the top of our Python script:\n",
    "\n",
    "```\n",
    "import os\n",
    "```\n",
    "\n",
    "Then, we can use the os.getcwd() method to get the current working directory as a string:\n",
    "\n",
    "```\n",
    "cwd = os.getcwd()\n",
    "print(cwd)\n",
    "# output: /home/user/python-project\n",
    "```\n",
    "\n",
    "The pathlib module offers an object-oriented way to work with filesystem paths and handle files. To use the pathlib module, we need to import it at the top of our Python script:\n",
    "\n",
    "```\n",
    "from pathlib import Path\n",
    "```\n",
    "\n",
    "Then, we can use the Path.cwd() method to get the current working directory as a Path object:\n",
    "\n",
    "```\n",
    "cwd = Path.cwd()\n",
    "print(cwd)\n",
    "# output: /home/user/python-project\n",
    "```\n",
    "\n",
    "Both methods return the same output, but the Path object has some advantages over the string, such as being able to manipulate paths easily, check for existence, and access attributes.\n",
    "\n",
    "Checking the current working directory in Python is sometimes necessary to ensure that our script is running from the expected folder and that we can access files and directories correctly."
   ]
  },
  {
   "cell_type": "code",
   "execution_count": 12,
   "metadata": {},
   "outputs": [
    {
     "data": {
      "application/vnd.jupyter.widget-view+json": {
       "model_id": "af6f0370fec94d7cbfd2ea5abdcea40c",
       "version_major": 2,
       "version_minor": 0
      },
      "text/plain": [
       "Summarize dataset:   0%|          | 0/5 [00:00<?, ?it/s]"
      ]
     },
     "metadata": {},
     "output_type": "display_data"
    },
    {
     "data": {
      "application/vnd.jupyter.widget-view+json": {
       "model_id": "1109ee522b48476a9b105a518b2505e3",
       "version_major": 2,
       "version_minor": 0
      },
      "text/plain": [
       "Generate report structure:   0%|          | 0/1 [00:00<?, ?it/s]"
      ]
     },
     "metadata": {},
     "output_type": "display_data"
    },
    {
     "data": {
      "application/vnd.jupyter.widget-view+json": {
       "model_id": "8adb57cfef5e4960b71b4c95bb60a186",
       "version_major": 2,
       "version_minor": 0
      },
      "text/plain": [
       "Render HTML:   0%|          | 0/1 [00:00<?, ?it/s]"
      ]
     },
     "metadata": {},
     "output_type": "display_data"
    },
    {
     "data": {
      "application/vnd.jupyter.widget-view+json": {
       "model_id": "288dc0aef0184ca9aac2a4cf8767b518",
       "version_major": 2,
       "version_minor": 0
      },
      "text/plain": [
       "Export report to file:   0%|          | 0/1 [00:00<?, ?it/s]"
      ]
     },
     "metadata": {},
     "output_type": "display_data"
    }
   ],
   "source": [
    "#perform pandas profiling on the data\n",
    "profile = pp.ProfileReport(df)\n",
    "profile.to_file(output_file='Turbine_Data.html')\n",
    "\n",
    "\n",
    "\n"
   ]
  }
 ],
 "metadata": {
  "kernelspec": {
   "display_name": "Python 3",
   "language": "python",
   "name": "python3"
  },
  "language_info": {
   "codemirror_mode": {
    "name": "ipython",
    "version": 3
   },
   "file_extension": ".py",
   "mimetype": "text/x-python",
   "name": "python",
   "nbconvert_exporter": "python",
   "pygments_lexer": "ipython3",
   "version": "3.8.10"
  },
  "orig_nbformat": 4
 },
 "nbformat": 4,
 "nbformat_minor": 2
}
