{
  "nbformat": 4,
  "nbformat_minor": 0,
  "metadata": {
    "colab": {
      "provenance": [],
      "authorship_tag": "ABX9TyOxsxCas9+f8VDjUZAofuNN",
      "include_colab_link": true
    },
    "kernelspec": {
      "name": "python3",
      "display_name": "Python 3"
    },
    "language_info": {
      "name": "python"
    }
  },
  "cells": [
    {
      "cell_type": "markdown",
      "metadata": {
        "id": "view-in-github",
        "colab_type": "text"
      },
      "source": [
        "<a href=\"https://colab.research.google.com/github/castudil/exploratory-data-analysis/blob/main/S7%20Linear%20Regression/ridge_regression.ipynb\" target=\"_parent\"><img src=\"https://colab.research.google.com/assets/colab-badge.svg\" alt=\"Open In Colab\"/></a>"
      ]
    },
    {
      "cell_type": "markdown",
      "source": [
        "##Ridge Regression\n",
        "\n",
        "## Introduction\n",
        "When we want to find a relationship between two things, like how the price of a car depends on its features, we can use a mathematical method called regression. Linear regression is one type of regression that helps us find the straight line that best fits the data points. We can then use this line to make predictions about new data points.\n",
        "\n",
        "Sometimes, when we use linear regression, we might end up with a line that fits the data points really well, but that might not be very good at making predictions for new data points. This can happen when we have many different features that might be related to the price of the car, but that might not all be equally important. When we use all of these features to find the best line, we might end up with a line that is too complicated and that might not work well when we try to predict prices for new cars.\n",
        "\n",
        "This is where ridge regression comes in. Ridge regression helps us find a line that fits the data points well, but that is also not too complicated. It does this by adding a penalty term to the equation that helps reduce the impact of features that might not be as important. This penalty term is controlled by a number called lambda (λ), which we can adjust to make the line less or more complicated.\n",
        "\n",
        "Think of it like trying to find the best way to balance different factors that affect the price of a car. For example, we might consider the make and model of the car, its age, the number of miles it has been driven, and its condition. But we might not want to give each of these factors the same weight when trying to predict the price. Some might be more important than others, so we can use ridge regression to help us find the best balance between all of these factors.\n",
        "\n",
        "In summary, ridge regression is a mathematical technique that helps us find the best line that fits a set of data points, while also making sure the line is not too complicated. It's useful when we have many different features that might be related to the outcome we're trying to predict, but that might not all be equally important.\n",
        "\n",
        "##A more in depth explanation\n",
        "\n",
        "Ridge regression is a linear regression technique that is used to prevent overfitting of the model by adding a penalty term to the cost function. In ridge regression, the coefficients (also known as weights or parameters) of the regression model are not only chosen to minimize the sum of squared errors between the predicted and actual values, but also to minimize the sum of the squared magnitudes of the coefficients.\n",
        "\n",
        "The penalty term is controlled by a regularization parameter, usually denoted by lambda (λ), which determines the trade-off between minimizing the sum of squared errors and minimizing the sum of squared magnitudes of the coefficients. As λ increases, the coefficients are penalized more heavily, leading to smaller values, which in turn reduces the complexity of the model.\n",
        "\n",
        "Ridge regression is especially useful when there are multiple highly correlated features in the dataset. In such cases, ordinary least squares (OLS) regression may lead to overfitting of the model, whereas ridge regression can reduce the variance of the estimates and improve the predictive accuracy of the model.\n",
        "\n",
        "The ridge regression equation is:\n",
        "\n",
        "\\begin{equation}\n",
        "\\hat{\\beta}^{ridge} = \\left(X^T X + \\lambda I \\right)^{-1} X^T y\n",
        "\\end{equation}\n",
        "\n",
        "\n",
        "where $\\hat{\\beta}^{ridge}$ is the vector of coefficients estimated by Ridge regression, $X$ is the design matrix of independent variables, $y$ is the vector of dependent variable, $\\lambda$ is the regularization parameter, and $I$ is the identity matrix."
      ],
      "metadata": {
        "id": "t-GtuYRMr0jo"
      }
    },
    {
      "cell_type": "markdown",
      "source": [
        "#Example of Ridge regression"
      ],
      "metadata": {
        "id": "wXGNtywytGuC"
      }
    },
    {
      "cell_type": "code",
      "execution_count": 1,
      "metadata": {
        "colab": {
          "base_uri": "https://localhost:8080/"
        },
        "id": "CXVn_v38rulX",
        "outputId": "7fc6ab84-4229-4f82-ee9a-dd98d09f795d"
      },
      "outputs": [
        {
          "output_type": "stream",
          "name": "stdout",
          "text": [
            "Mean squared error: 1.48\n"
          ]
        }
      ],
      "source": [
        "from sklearn.linear_model import Ridge\n",
        "from sklearn.model_selection import train_test_split\n",
        "from sklearn.metrics import mean_squared_error\n",
        "import numpy as np\n",
        "\n",
        "# Generate some sample data\n",
        "X = np.random.rand(100, 10)\n",
        "y = 2*X[:, 0] + 3*X[:, 1] + np.random.randn(100)\n",
        "\n",
        "# Split the data into training and testing sets\n",
        "X_train, X_test, y_train, y_test = train_test_split(X, y, test_size=0.3, random_state=0)\n",
        "\n",
        "# Create a Ridge regression object with a regularization parameter of 1\n",
        "ridge = Ridge(alpha=1)\n",
        "\n",
        "# Train the Ridge regression model\n",
        "ridge.fit(X_train, y_train)\n",
        "\n",
        "# Use the model to make predictions on the test data\n",
        "y_pred = ridge.predict(X_test)\n",
        "\n",
        "# Calculate the mean squared error of the predictions\n",
        "mse = mean_squared_error(y_test, y_pred)\n",
        "\n",
        "print(\"Mean squared error: %.2f\" % mse)"
      ]
    },
    {
      "cell_type": "markdown",
      "source": [
        "In this example, we first generate random data consisting of two independent variables (X1 and X2) and a dependent variable (y) that follows a linear relationship with some random noise. We then split the data into training and test sets, and train a Ridge regression model with `alpha=1` on the training set. We predict on the test set and calculate the mean squared error of the predictions.\n",
        "\n",
        "\n",
        "\n",
        " In scikit-learn's implementation of Ridge regression, the regularization parameter is denoted by `alpha` instead of `lambda`. So when using scikit-learn's Ridge regression, you would set the `alpha` parameter to control the amount of regularization applied to the model."
      ],
      "metadata": {
        "id": "17Ro242QtnTt"
      }
    },
    {
      "cell_type": "code",
      "source": [
        "import matplotlib.pyplot as plt\n",
        "\n",
        "# Plot the true relationship and the predicted relationship\n",
        "plt.scatter(X_test[:, 0], y_test, color='black', alpha=0.5, label='True relationship')\n",
        "plt.scatter(X_test[:, 0], y_pred, color='red', alpha=0.5, label='Ridge regression')\n",
        "plt.xlabel('X1')\n",
        "plt.ylabel('y')\n",
        "plt.legend()\n",
        "plt.show()\n"
      ],
      "metadata": {
        "colab": {
          "base_uri": "https://localhost:8080/",
          "height": 469
        },
        "id": "z3suJFd7uJPS",
        "outputId": "bd7fd10f-a66c-45dc-8f92-d48a5721ee78"
      },
      "execution_count": 4,
      "outputs": [
        {
          "output_type": "display_data",
          "data": {
            "text/plain": [
              "<Figure size 640x480 with 1 Axes>"
            ],
            "image/png": "[encoded data removed]"
          },
          "metadata": {}
        }
      ]
    },
    {
      "cell_type": "markdown",
      "source": [
        "we plot the true relationship between X1 and y as black dots and the predicted relationship learned by the Ridge regression model as red dots. As expected, the predicted relationship is a smoothed version of the true relationship due to the regularization applied by the Ridge regression model.\n",
        "\n",
        "we added the alpha parameter with a value of 0.5 to both the black dots and the red dots, which makes them slightly transparent. This can help to make the plot less cluttered and more visually appealing."
      ],
      "metadata": {
        "id": "rthsJKTru7KF"
      }
    },
    {
      "cell_type": "markdown",
      "source": [
        "#How does Ridge regression perform in comparison to modern ML algorithms?\n",
        "\n",
        "\n",
        "Ridge regression is useful in situations where we have a lot of input variables (features) and we want to avoid overfitting, especially when the number of input variables is much larger than the number of observations in the data.\n",
        "\n",
        "However, modern machine learning models such as neural networks, decision trees, and random forests can often outperform ridge regression in terms of accuracy and flexibility. These models can capture more complex relationships between the input variables and the output, and they can handle a wider variety of data types and structures.\n",
        "\n",
        "Ridge regression can still be useful in certain scenarios, such as when we want a simpler model that is easier to interpret or when we want to combine it with other models in an ensemble. It can also be a good baseline model to compare against more complex models, to see if the additional complexity is really necessary to get good performance on the task at hand.\n",
        "\n",
        "#Conclusions\n",
        "\n",
        "Ridge regression works well because it helps to prevent overfitting. Overfitting happens when a model fits the training data too closely, which can lead to poor performance on new data.\n",
        "\n",
        "Ridge regression adds a penalty term to the model's loss function, which encourages the model to have smaller weights. This penalty term helps to reduce the complexity of the model and prevent overfitting, especially when there are many input variables that could potentially be important for predicting the output.\n",
        "\n",
        "In simpler terms, ridge regression helps to create a simpler model that doesn't rely too heavily on any one input variable, and this can lead to better performance on new data."
      ],
      "metadata": {
        "id": "e-wEJgBRvy-z"
      }
    }
  ]
}